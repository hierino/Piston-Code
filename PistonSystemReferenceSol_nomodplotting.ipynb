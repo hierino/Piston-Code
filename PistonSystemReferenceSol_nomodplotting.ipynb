{
 "cells": [
  {
   "cell_type": "code",
   "execution_count": null,
   "metadata": {},
   "outputs": [],
   "source": [
    "# Load the necessary libraries\n",
    "import numpy as np\n",
    "import sympy as sp\n",
    "from sympy.physics.mechanics import dynamicsymbols\n",
    "import matplotlib.pyplot as plt\n",
    "from scipy.integrate import solve_ivp\n",
    "\n",
    "# This is for pretty printing\n",
    "import IPython.display as disp"
   ]
  },
  {
   "cell_type": "markdown",
   "metadata": {},
   "source": [
    "Constants"
   ]
  },
  {
   "cell_type": "code",
   "execution_count": null,
   "metadata": {},
   "outputs": [],
   "source": [
    "m1, m2, m3 = 1, 2, 0.5\n",
    "L1, L2 = 0.5, 1.5\n",
    "I1, I2 = 0.5, 1.5\n",
    "F0 = 50\n",
    "k = 1\n",
    "g = 9.81"
   ]
  },
  {
   "cell_type": "code",
   "execution_count": null,
   "metadata": {},
   "outputs": [],
   "source": [
    "t = sp.symbols('t')\n",
    "x1, x2, y1, y2, theta1, theta2, x3, y3 = dynamicsymbols('x1 x2 y1 y2 theta1 theta2 x3 y3')\n",
    "q = sp.Matrix([x1, y1, theta1, x2, y2, theta2, x3, y3])\n",
    "dq = q.diff(t)\n",
    "\n",
    "x_com_1 = sp.Matrix([x1, y1])\n",
    "x_com_2 = sp.Matrix([x2, y2])\n",
    "x_com_3 = sp.Matrix([x3, y3])\n",
    "\n",
    "R = lambda theta: sp.Matrix([[sp.cos(theta), -sp.sin(theta)], [sp.sin(theta), sp.cos(theta)]])\n",
    "\n",
    "M = np.diag([m1, m1, I1, m2, m2, I2, m3, m3])\n",
    "W = np.linalg.inv(M)\n",
    "Q = sp.Matrix([0, -m1*g, -k*theta1.diff(t), 0, -m2*g, 0, 0, -m3*g + F0 * sp.cos(theta1)])"
   ]
  },
  {
   "cell_type": "code",
   "execution_count": null,
   "metadata": {},
   "outputs": [],
   "source": [
    "i_cap = sp.Matrix([1, 0])\n",
    "j_cap = sp.Matrix([0, 1])\n",
    "\n",
    "constraint_1 = x_com_1 + R(theta1) @ sp.Matrix([-L1/2, 0])\n",
    "C1 = constraint_1.dot(i_cap)\n",
    "C2 = constraint_1.dot(j_cap)\n",
    "\n",
    "constraint_2 = x_com_1 - x_com_2 + R(theta1) @ sp.Matrix([L1/2, 0]) - R(theta2) @ sp.Matrix([-L2/2, 0])\n",
    "C3 = constraint_2.dot(i_cap)\n",
    "C4 = constraint_2.dot(j_cap)\n",
    "\n",
    "constraint_3 = x_com_2 + R(theta2) @ sp.Matrix([L2/2, 0]) - x_com_3\n",
    "C5 = constraint_3.dot(i_cap)\n",
    "C6 = constraint_3.dot(j_cap)\n",
    "\n",
    "constraint_4 = x_com_3[0]\n",
    "C7 = constraint_4\n",
    "\n",
    "C = sp.Matrix([C1, C2, C3, C4, C5, C6, C7])"
   ]
  },
  {
   "cell_type": "code",
   "execution_count": null,
   "metadata": {},
   "outputs": [],
   "source": [
    "J = C.jacobian(q)     \n",
    "dq = q.diff(t)        \n",
    "dC = J @ dq\n",
    "dJ = dC.jacobian(q)\n",
    "JWJT = J @ W @ J.T\n",
    "RHS = -dJ @ dq - J @ W @ Q - 1 * C - 1 * dC\n",
    "\n",
    "JWJT_fn = sp.lambdify(args=(q, dq), expr=JWJT)\n",
    "RHS_fn = sp.lambdify(args=(q, dq), expr=RHS)\n",
    "C_fn = sp.lambdify(args=(q, dq), expr=C)    \n",
    "J_fn = sp.lambdify(args=(q, dq), expr=J)   \n",
    "dC_fn = sp.lambdify(args=(q, dq), expr=dC)  \n",
    "dJ_fn = sp.lambdify(args=(q, dq), expr=dJ)\n",
    "Q_fn = sp.lambdify(args=(q, dq), expr=Q)"
   ]
  },
  {
   "cell_type": "code",
   "execution_count": null,
   "metadata": {},
   "outputs": [],
   "source": [
    "dtheta1 = 0.5\n",
    "initial_position_body_1 = np.array([0, L1/2, np.pi/2])\n",
    "initial_position_body_2 = np.array([0, L1 + L2/2, np.pi/2])\n",
    "initial_position_body_3 = np.array([0, L1 + L2])\n",
    "initial_velocity_body_1 = np.array([0, 0, dtheta1]) # To start the engine\n",
    "initial_velocity_body_2 = np.array([0, 0, 0])\n",
    "initial_velocity_body_3 = np.array([0, 0])\n",
    "x0 = np.concatenate((initial_position_body_1, initial_position_body_2, initial_position_body_3,\n",
    "                    initial_velocity_body_1, initial_velocity_body_2, initial_velocity_body_3))"
   ]
  },
  {
   "cell_type": "markdown",
   "metadata": {},
   "source": [
    "Calculate initial conditions for the system"
   ]
  },
  {
   "cell_type": "code",
   "execution_count": null,
   "metadata": {},
   "outputs": [],
   "source": [
    "import scipy.optimize as opt\n",
    "\n",
    "x, _ = np.split(x0, 2)\n",
    "def optimiser(b):\n",
    "    dx1, dy1, dx2, dy2, dtheta2, dx3, dy3 = b\n",
    "    dq = np.array([dx1, dy1, dtheta1, dx2, dy2, dtheta2, dx3, dy3])\n",
    "    val = dC_fn(x, dq).flatten()\n",
    "    return val\n",
    "\n",
    "initial_guess = np.array([0, 0, 0, 0, 0, 0, 0])\n",
    "result = opt.root(optimiser, initial_guess)\n",
    "print(result)\n",
    "\n",
    "b = result.x\n",
    "dx = np.array([b[0], b[1], dtheta1, b[2], b[3], b[4], b[5], b[6]])\n",
    "\n",
    "C_val = C_fn(x, dx)\n",
    "dC_val = dC_fn(x, dx)\n",
    "\n",
    "print(f'Position constraint: {C_val}')\n",
    "print(f'Velocity constraint: {dC_val}')\n",
    "assert np.allclose(C_val, 0), \"Initial position constraint violated\"\n",
    "assert np.allclose(dC_val, 0), \"Initial velocity constraint violated\"\n",
    "x0 = np.concatenate((x, dx))\n",
    "x0"
   ]
  },
  {
   "cell_type": "code",
   "execution_count": null,
   "metadata": {},
   "outputs": [],
   "source": [
    "def piston_engine(t, state):\n",
    "    '''\n",
    "    This function returns the derivative of the state vector for the system\n",
    "\n",
    "    Parameters:\n",
    "    t: float\n",
    "        The current time\n",
    "    state: numpy array\n",
    "        The current state of the system\n",
    "        The vector is arranged as [q, dq]\n",
    "        where q is the position vector and dq is the derivative of the position vector\n",
    "    '''\n",
    "\n",
    "    q, dq = np.split(state, 2)\n",
    "\n",
    "    # Solve for lambda \n",
    "    lam = np.linalg.solve(JWJT_fn(q,dq), RHS_fn(q,dq))\n",
    "\n",
    "    # Solve for constraint forces \n",
    "    Qhat = J_fn(q, dq).T @ lam\n",
    "\n",
    "    # Calculate accelerations\n",
    "    ddq = W @ (Q_fn(q, dq) + Qhat)\n",
    "    ddq = ddq.flatten()\n",
    "\n",
    "    return np.concatenate((dq, ddq))\n",
    "\n",
    "# Test run\n",
    "piston_engine(0, x0)"
   ]
  },
  {
   "cell_type": "code",
   "execution_count": null,
   "metadata": {},
   "outputs": [],
   "source": [
    "t_span = (0, 30)\n",
    "t_eval = np.linspace(*t_span, 500)\n",
    "sol = solve_ivp(piston_engine, t_span, x0, atol=1e-7, rtol=1e-7, method='BDF', t_eval=t_eval)"
   ]
  },
  {
   "cell_type": "markdown",
   "metadata": {},
   "source": [
    "Animation"
   ]
  },
  {
   "cell_type": "code",
   "execution_count": null,
   "metadata": {},
   "outputs": [],
   "source": [
    "# Class for drawing the box\n",
    "class Box:\n",
    "    def __init__(self, width, height, color='b'):\n",
    "        self.width = width\n",
    "        self.height = height\n",
    "        self.color = color\n",
    "        self.offset = -np.array([width/2, height/2])\n",
    "\n",
    "    def first_draw(self, ax):\n",
    "        corner = np.array([0, 0])\n",
    "        self.patch = plt.Rectangle(corner, 0, 0, angle=0, \n",
    "                        rotation_point='center', color=self.color, animated=True)\n",
    "        ax.add_patch(self.patch)\n",
    "        self.ax = ax\n",
    "        return self.patch\n",
    "    \n",
    "    def set_data(self, x, y, theta):\n",
    "        self.x = x\n",
    "        self.y = y\n",
    "        self.theta = theta\n",
    "\n",
    "    def update(self, i):\n",
    "        x, y, theta = self.x[i], self.y[i], self.theta[i]\n",
    "        theta = np.rad2deg(theta)\n",
    "\n",
    "        # The rectangle is drawn from the left bottom corner\n",
    "        # So, we need to calculate the corner position\n",
    "        corner = np.array([x, y]) + self.offset\n",
    "\n",
    "        # Update the values for the rectangle\n",
    "        self.patch.set_width(self.width)\n",
    "        self.patch.set_height(self.height)\n",
    "        self.patch.set_xy(corner)\n",
    "        self.patch.set_angle(theta)\n",
    "        return self.patch"
   ]
  },
  {
   "cell_type": "code",
   "execution_count": null,
   "metadata": {},
   "outputs": [],
   "source": [
    "### NOTE: This might take a while to run.\n",
    "\n",
    "from matplotlib.animation import FuncAnimation\n",
    "from IPython.display import HTML\n",
    "\n",
    "fig, ax = plt.subplots()\n",
    "# Close the figure as we will be making an animation\n",
    "plt.close()\n",
    "\n",
    "# Set bounding limits \n",
    "ax.set_ylim(-0.6, 2.1)\n",
    "ax.set_xlim(-0.6, 0.6)\n",
    "ax.set_aspect('equal')\n",
    "\n",
    "# Get the position and angle of the two bodies\n",
    "x1, y1, theta1 = sol.y[:3]\n",
    "x2, y2, theta2 = sol.y[3:6]\n",
    "x3, y3 = sol.y[6:8]\n",
    "theta3 = np.zeros_like(x3)\n",
    "\n",
    "box1 = Box(L1, 0.01, 'b')\n",
    "box2 = Box(L2, 0.01, 'r')\n",
    "box3 = Box(0.1, 0.3, 'g')\n",
    "\n",
    "box1.set_data(x1, y1, theta1)\n",
    "box2.set_data(x2, y2, theta2)\n",
    "box3.set_data(x3, y3, theta3)\n",
    "\n",
    "\n",
    "boxes = [box1, box3, box2]\n",
    "\n",
    "def init():\n",
    "    ax.set_title(\"t=0.00 sec\", fontsize=15)\n",
    "    for box in boxes:\n",
    "        box.first_draw(ax)\n",
    "    patches = [box.patch for box in boxes]\n",
    "    return patches\n",
    "\n",
    "def animate(i):\n",
    "    ''' Draw the i-th frame of the animation'''\n",
    "    \n",
    "    ax.set_title(f\"t={sol.t[i]:.2f} sec\", fontsize=15)\n",
    "    for box in boxes:\n",
    "        box.update(i)\n",
    "    patches = [box.patch for box in boxes]\n",
    "    return patches\n",
    "\n",
    "# Set the interval between frames\n",
    "dt = sol.t[1] - sol.t[0]\n",
    "\n",
    "# Create the animation\n",
    "anim = FuncAnimation(fig, animate, frames=len(sol.t), init_func=init, blit=False, interval=1000*dt)\n",
    "HTML(anim.to_html5_video())"
   ]
  },
  {
   "cell_type": "code",
   "execution_count": null,
   "metadata": {},
   "outputs": [],
   "source": []
  }
 ],
 "metadata": {
  "kernelspec": {
   "display_name": "base",
   "language": "python",
   "name": "python3"
  },
  "language_info": {
   "codemirror_mode": {
    "name": "ipython",
    "version": 3
   },
   "file_extension": ".py",
   "mimetype": "text/x-python",
   "name": "python",
   "nbconvert_exporter": "python",
   "pygments_lexer": "ipython3",
   "version": "3.12.7"
  }
 },
 "nbformat": 4,
 "nbformat_minor": 4
}
